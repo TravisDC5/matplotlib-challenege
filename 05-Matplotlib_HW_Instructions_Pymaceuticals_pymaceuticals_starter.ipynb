{
 "cells": [
  {
   "cell_type": "markdown",
   "metadata": {},
   "source": [
    "## Observations and Insights"
   ]
  },
  {
   "cell_type": "markdown",
   "metadata": {},
   "source": []
  },
  {
   "cell_type": "markdown",
   "metadata": {},
   "source": [
    "## Dependencies and starter code"
   ]
  },
  {
   "cell_type": "code",
   "execution_count": 43,
   "metadata": {},
   "outputs": [
    {
     "data": {
      "text/html": [
       "<div>\n",
       "<style scoped>\n",
       "    .dataframe tbody tr th:only-of-type {\n",
       "        vertical-align: middle;\n",
       "    }\n",
       "\n",
       "    .dataframe tbody tr th {\n",
       "        vertical-align: top;\n",
       "    }\n",
       "\n",
       "    .dataframe thead th {\n",
       "        text-align: right;\n",
       "    }\n",
       "</style>\n",
       "<table border=\"1\" class=\"dataframe\">\n",
       "  <thead>\n",
       "    <tr style=\"text-align: right;\">\n",
       "      <th></th>\n",
       "      <th>Mouse ID</th>\n",
       "      <th>Drug Regimen</th>\n",
       "      <th>Sex</th>\n",
       "      <th>Age_months</th>\n",
       "      <th>Weight (g)</th>\n",
       "      <th>Timepoint</th>\n",
       "      <th>Tumor Volume (mm3)</th>\n",
       "      <th>Metastatic Sites</th>\n",
       "    </tr>\n",
       "  </thead>\n",
       "  <tbody>\n",
       "    <tr>\n",
       "      <th>0</th>\n",
       "      <td>k403</td>\n",
       "      <td>Ramicane</td>\n",
       "      <td>Male</td>\n",
       "      <td>21</td>\n",
       "      <td>16</td>\n",
       "      <td>0</td>\n",
       "      <td>45.000000</td>\n",
       "      <td>0</td>\n",
       "    </tr>\n",
       "    <tr>\n",
       "      <th>1</th>\n",
       "      <td>k403</td>\n",
       "      <td>Ramicane</td>\n",
       "      <td>Male</td>\n",
       "      <td>21</td>\n",
       "      <td>16</td>\n",
       "      <td>5</td>\n",
       "      <td>38.825898</td>\n",
       "      <td>0</td>\n",
       "    </tr>\n",
       "    <tr>\n",
       "      <th>2</th>\n",
       "      <td>k403</td>\n",
       "      <td>Ramicane</td>\n",
       "      <td>Male</td>\n",
       "      <td>21</td>\n",
       "      <td>16</td>\n",
       "      <td>10</td>\n",
       "      <td>35.014271</td>\n",
       "      <td>1</td>\n",
       "    </tr>\n",
       "    <tr>\n",
       "      <th>3</th>\n",
       "      <td>k403</td>\n",
       "      <td>Ramicane</td>\n",
       "      <td>Male</td>\n",
       "      <td>21</td>\n",
       "      <td>16</td>\n",
       "      <td>15</td>\n",
       "      <td>34.223992</td>\n",
       "      <td>1</td>\n",
       "    </tr>\n",
       "    <tr>\n",
       "      <th>4</th>\n",
       "      <td>k403</td>\n",
       "      <td>Ramicane</td>\n",
       "      <td>Male</td>\n",
       "      <td>21</td>\n",
       "      <td>16</td>\n",
       "      <td>20</td>\n",
       "      <td>32.997729</td>\n",
       "      <td>1</td>\n",
       "    </tr>\n",
       "  </tbody>\n",
       "</table>\n",
       "</div>"
      ],
      "text/plain": [
       "  Mouse ID Drug Regimen   Sex  Age_months  Weight (g)  Timepoint  \\\n",
       "0     k403     Ramicane  Male          21          16          0   \n",
       "1     k403     Ramicane  Male          21          16          5   \n",
       "2     k403     Ramicane  Male          21          16         10   \n",
       "3     k403     Ramicane  Male          21          16         15   \n",
       "4     k403     Ramicane  Male          21          16         20   \n",
       "\n",
       "   Tumor Volume (mm3)  Metastatic Sites  \n",
       "0           45.000000                 0  \n",
       "1           38.825898                 0  \n",
       "2           35.014271                 1  \n",
       "3           34.223992                 1  \n",
       "4           32.997729                 1  "
      ]
     },
     "execution_count": 43,
     "metadata": {},
     "output_type": "execute_result"
    }
   ],
   "source": [
    "# Dependencies and Setup\n",
    "import matplotlib.pyplot as plt\n",
    "import pandas as pd\n",
    "import numpy as np\n",
    "import scipy.stats as st\n",
    "\n",
    "# Study data files\n",
    "mouse_metadata = \"data/Mouse_metadata.csv\"\n",
    "study_results = \"data/Study_results.csv\"\n",
    "\n",
    "# Read the mouse data and the study results\n",
    "mouse_metadata = pd.read_csv(mouse_metadata)\n",
    "study_results = pd.read_csv(study_results)\n",
    "\n",
    "# Combine the data into a single dataset\n",
    "combineDataset = pd.merge(mouse_metadata, study_results, on=\"Mouse ID\")\n",
    "\n",
    "combineDataset.head()"
   ]
  },
  {
   "cell_type": "markdown",
   "metadata": {},
   "source": [
    "## Summary statistics"
   ]
  },
  {
   "cell_type": "code",
   "execution_count": 44,
   "metadata": {
    "scrolled": true
   },
   "outputs": [
    {
     "data": {
      "text/html": [
       "<style  type=\"text/css\" >\n",
       "</style><table id=\"T_63f67bda_7ebd_11ea_a295_c860007a1325\" ><thead>    <tr>        <th class=\"blank level0\" ></th>        <th class=\"col_heading level0 col0\" >Tumor Volume Mean</th>        <th class=\"col_heading level0 col1\" >Tumor Volume Median</th>        <th class=\"col_heading level0 col2\" >Tumor Volume Variance</th>        <th class=\"col_heading level0 col3\" >Tumor Volume Std. Deviation</th>        <th class=\"col_heading level0 col4\" >Tumor Volume Std. Error</th>    </tr>    <tr>        <th class=\"index_name level0\" >Drug Regimen</th>        <th class=\"blank\" ></th>        <th class=\"blank\" ></th>        <th class=\"blank\" ></th>        <th class=\"blank\" ></th>        <th class=\"blank\" ></th>    </tr></thead><tbody>\n",
       "                <tr>\n",
       "                        <th id=\"T_63f67bda_7ebd_11ea_a295_c860007a1325level0_row0\" class=\"row_heading level0 row0\" >Capomulin</th>\n",
       "                        <td id=\"T_63f67bda_7ebd_11ea_a295_c860007a1325row0_col0\" class=\"data row0 col0\" >40.676</td>\n",
       "                        <td id=\"T_63f67bda_7ebd_11ea_a295_c860007a1325row0_col1\" class=\"data row0 col1\" >41.558</td>\n",
       "                        <td id=\"T_63f67bda_7ebd_11ea_a295_c860007a1325row0_col2\" class=\"data row0 col2\" >24.948</td>\n",
       "                        <td id=\"T_63f67bda_7ebd_11ea_a295_c860007a1325row0_col3\" class=\"data row0 col3\" >4.995</td>\n",
       "                        <td id=\"T_63f67bda_7ebd_11ea_a295_c860007a1325row0_col4\" class=\"data row0 col4\" >0.329</td>\n",
       "            </tr>\n",
       "            <tr>\n",
       "                        <th id=\"T_63f67bda_7ebd_11ea_a295_c860007a1325level0_row1\" class=\"row_heading level0 row1\" >Ceftamin</th>\n",
       "                        <td id=\"T_63f67bda_7ebd_11ea_a295_c860007a1325row1_col0\" class=\"data row1 col0\" >52.591</td>\n",
       "                        <td id=\"T_63f67bda_7ebd_11ea_a295_c860007a1325row1_col1\" class=\"data row1 col1\" >51.776</td>\n",
       "                        <td id=\"T_63f67bda_7ebd_11ea_a295_c860007a1325row1_col2\" class=\"data row1 col2\" >39.290</td>\n",
       "                        <td id=\"T_63f67bda_7ebd_11ea_a295_c860007a1325row1_col3\" class=\"data row1 col3\" >6.268</td>\n",
       "                        <td id=\"T_63f67bda_7ebd_11ea_a295_c860007a1325row1_col4\" class=\"data row1 col4\" >0.470</td>\n",
       "            </tr>\n",
       "            <tr>\n",
       "                        <th id=\"T_63f67bda_7ebd_11ea_a295_c860007a1325level0_row2\" class=\"row_heading level0 row2\" >Infubinol</th>\n",
       "                        <td id=\"T_63f67bda_7ebd_11ea_a295_c860007a1325row2_col0\" class=\"data row2 col0\" >52.885</td>\n",
       "                        <td id=\"T_63f67bda_7ebd_11ea_a295_c860007a1325row2_col1\" class=\"data row2 col1\" >51.821</td>\n",
       "                        <td id=\"T_63f67bda_7ebd_11ea_a295_c860007a1325row2_col2\" class=\"data row2 col2\" >43.129</td>\n",
       "                        <td id=\"T_63f67bda_7ebd_11ea_a295_c860007a1325row2_col3\" class=\"data row2 col3\" >6.567</td>\n",
       "                        <td id=\"T_63f67bda_7ebd_11ea_a295_c860007a1325row2_col4\" class=\"data row2 col4\" >0.492</td>\n",
       "            </tr>\n",
       "            <tr>\n",
       "                        <th id=\"T_63f67bda_7ebd_11ea_a295_c860007a1325level0_row3\" class=\"row_heading level0 row3\" >Ketapril</th>\n",
       "                        <td id=\"T_63f67bda_7ebd_11ea_a295_c860007a1325row3_col0\" class=\"data row3 col0\" >55.236</td>\n",
       "                        <td id=\"T_63f67bda_7ebd_11ea_a295_c860007a1325row3_col1\" class=\"data row3 col1\" >53.699</td>\n",
       "                        <td id=\"T_63f67bda_7ebd_11ea_a295_c860007a1325row3_col2\" class=\"data row3 col2\" >68.554</td>\n",
       "                        <td id=\"T_63f67bda_7ebd_11ea_a295_c860007a1325row3_col3\" class=\"data row3 col3\" >8.280</td>\n",
       "                        <td id=\"T_63f67bda_7ebd_11ea_a295_c860007a1325row3_col4\" class=\"data row3 col4\" >0.604</td>\n",
       "            </tr>\n",
       "            <tr>\n",
       "                        <th id=\"T_63f67bda_7ebd_11ea_a295_c860007a1325level0_row4\" class=\"row_heading level0 row4\" >Naftisol</th>\n",
       "                        <td id=\"T_63f67bda_7ebd_11ea_a295_c860007a1325row4_col0\" class=\"data row4 col0\" >54.332</td>\n",
       "                        <td id=\"T_63f67bda_7ebd_11ea_a295_c860007a1325row4_col1\" class=\"data row4 col1\" >52.509</td>\n",
       "                        <td id=\"T_63f67bda_7ebd_11ea_a295_c860007a1325row4_col2\" class=\"data row4 col2\" >66.173</td>\n",
       "                        <td id=\"T_63f67bda_7ebd_11ea_a295_c860007a1325row4_col3\" class=\"data row4 col3\" >8.135</td>\n",
       "                        <td id=\"T_63f67bda_7ebd_11ea_a295_c860007a1325row4_col4\" class=\"data row4 col4\" >0.596</td>\n",
       "            </tr>\n",
       "            <tr>\n",
       "                        <th id=\"T_63f67bda_7ebd_11ea_a295_c860007a1325level0_row5\" class=\"row_heading level0 row5\" >Placebo</th>\n",
       "                        <td id=\"T_63f67bda_7ebd_11ea_a295_c860007a1325row5_col0\" class=\"data row5 col0\" >54.034</td>\n",
       "                        <td id=\"T_63f67bda_7ebd_11ea_a295_c860007a1325row5_col1\" class=\"data row5 col1\" >52.289</td>\n",
       "                        <td id=\"T_63f67bda_7ebd_11ea_a295_c860007a1325row5_col2\" class=\"data row5 col2\" >61.168</td>\n",
       "                        <td id=\"T_63f67bda_7ebd_11ea_a295_c860007a1325row5_col3\" class=\"data row5 col3\" >7.821</td>\n",
       "                        <td id=\"T_63f67bda_7ebd_11ea_a295_c860007a1325row5_col4\" class=\"data row5 col4\" >0.581</td>\n",
       "            </tr>\n",
       "            <tr>\n",
       "                        <th id=\"T_63f67bda_7ebd_11ea_a295_c860007a1325level0_row6\" class=\"row_heading level0 row6\" >Propriva</th>\n",
       "                        <td id=\"T_63f67bda_7ebd_11ea_a295_c860007a1325row6_col0\" class=\"data row6 col0\" >52.323</td>\n",
       "                        <td id=\"T_63f67bda_7ebd_11ea_a295_c860007a1325row6_col1\" class=\"data row6 col1\" >50.855</td>\n",
       "                        <td id=\"T_63f67bda_7ebd_11ea_a295_c860007a1325row6_col2\" class=\"data row6 col2\" >42.351</td>\n",
       "                        <td id=\"T_63f67bda_7ebd_11ea_a295_c860007a1325row6_col3\" class=\"data row6 col3\" >6.508</td>\n",
       "                        <td id=\"T_63f67bda_7ebd_11ea_a295_c860007a1325row6_col4\" class=\"data row6 col4\" >0.513</td>\n",
       "            </tr>\n",
       "            <tr>\n",
       "                        <th id=\"T_63f67bda_7ebd_11ea_a295_c860007a1325level0_row7\" class=\"row_heading level0 row7\" >Ramicane</th>\n",
       "                        <td id=\"T_63f67bda_7ebd_11ea_a295_c860007a1325row7_col0\" class=\"data row7 col0\" >40.217</td>\n",
       "                        <td id=\"T_63f67bda_7ebd_11ea_a295_c860007a1325row7_col1\" class=\"data row7 col1\" >40.673</td>\n",
       "                        <td id=\"T_63f67bda_7ebd_11ea_a295_c860007a1325row7_col2\" class=\"data row7 col2\" >23.487</td>\n",
       "                        <td id=\"T_63f67bda_7ebd_11ea_a295_c860007a1325row7_col3\" class=\"data row7 col3\" >4.846</td>\n",
       "                        <td id=\"T_63f67bda_7ebd_11ea_a295_c860007a1325row7_col4\" class=\"data row7 col4\" >0.321</td>\n",
       "            </tr>\n",
       "            <tr>\n",
       "                        <th id=\"T_63f67bda_7ebd_11ea_a295_c860007a1325level0_row8\" class=\"row_heading level0 row8\" >Stelasyn</th>\n",
       "                        <td id=\"T_63f67bda_7ebd_11ea_a295_c860007a1325row8_col0\" class=\"data row8 col0\" >54.233</td>\n",
       "                        <td id=\"T_63f67bda_7ebd_11ea_a295_c860007a1325row8_col1\" class=\"data row8 col1\" >52.432</td>\n",
       "                        <td id=\"T_63f67bda_7ebd_11ea_a295_c860007a1325row8_col2\" class=\"data row8 col2\" >59.451</td>\n",
       "                        <td id=\"T_63f67bda_7ebd_11ea_a295_c860007a1325row8_col3\" class=\"data row8 col3\" >7.710</td>\n",
       "                        <td id=\"T_63f67bda_7ebd_11ea_a295_c860007a1325row8_col4\" class=\"data row8 col4\" >0.573</td>\n",
       "            </tr>\n",
       "            <tr>\n",
       "                        <th id=\"T_63f67bda_7ebd_11ea_a295_c860007a1325level0_row9\" class=\"row_heading level0 row9\" >Zoniferol</th>\n",
       "                        <td id=\"T_63f67bda_7ebd_11ea_a295_c860007a1325row9_col0\" class=\"data row9 col0\" >53.237</td>\n",
       "                        <td id=\"T_63f67bda_7ebd_11ea_a295_c860007a1325row9_col1\" class=\"data row9 col1\" >51.818</td>\n",
       "                        <td id=\"T_63f67bda_7ebd_11ea_a295_c860007a1325row9_col2\" class=\"data row9 col2\" >48.533</td>\n",
       "                        <td id=\"T_63f67bda_7ebd_11ea_a295_c860007a1325row9_col3\" class=\"data row9 col3\" >6.967</td>\n",
       "                        <td id=\"T_63f67bda_7ebd_11ea_a295_c860007a1325row9_col4\" class=\"data row9 col4\" >0.516</td>\n",
       "            </tr>\n",
       "    </tbody></table>"
      ],
      "text/plain": [
       "<pandas.io.formats.style.Styler at 0x57bff08>"
      ]
     },
     "execution_count": 44,
     "metadata": {},
     "output_type": "execute_result"
    }
   ],
   "source": [
    "# Generate a summary statistics table of mean, median, variance, standard deviation, and SEM of the tumor volume for each regimen\n",
    "newData = combineDataset.groupby(\"Drug Regimen\")\n",
    "\n",
    "tumorMean = newData[\"Tumor Volume (mm3)\"].mean()\n",
    "tumorMedian = newData[\"Tumor Volume (mm3)\"].median()\n",
    "tumorVariance = newData[\"Tumor Volume (mm3)\"].var()\n",
    "tumorStdDev = newData[\"Tumor Volume (mm3)\"].std()\n",
    "tumorSem = newData[\"Tumor Volume (mm3)\"].sem()\n",
    "\n",
    "drugRegimen_df = pd.DataFrame({\"Tumor Volume Mean\": tumorMean, \"Tumor Volume Median\": tumorMedian, \n",
    "                               \"Tumor Volume Variance\": tumorVariance, \"Tumor Volume Std. Deviation\": tumorStdDev,\n",
    "                              \"Tumor Volume Std. Error\": tumorSem})\n",
    "\n",
    "drugRegimen_df.style.format({\"Tumor Volume Mean\":\"{:,.3f}\", \"Tumor Volume Median\":\"{:,.3f}\", \n",
    "                            \"Tumor Volume Variance\":\"{:,.3f}\", \"Tumor Volume Std. Deviation\":\"{:,.3f}\",\n",
    "                            \"Tumor Volume Std. Error\":\"{:,.3f}\"})\n"
   ]
  },
  {
   "cell_type": "markdown",
   "metadata": {},
   "source": [
    "## Bar plots"
   ]
  },
  {
   "cell_type": "code",
   "execution_count": 45,
   "metadata": {},
   "outputs": [
    {
     "data": {
      "image/png": "[encoded data removed]",
      "text/plain": [
       "<Figure size 432x288 with 1 Axes>"
      ]
     },
     "metadata": {
      "needs_background": "light"
     },
     "output_type": "display_data"
    }
   ],
   "source": [
    "# Generate a bar plot showing number of data points for each treatment regimen using pandas\n",
    "drugRegimenValue = pd.DataFrame(newData[\"Drug Regimen\"].count())\n",
    "\n",
    "drugRegimenValue.plot(kind=\"bar\", title=\"Drug Regimen Data\")\n",
    "plt.ylabel('Count')\n",
    "plt.tight_layout()\n",
    "plt.show()"
   ]
  },
  {
   "cell_type": "code",
   "execution_count": 72,
   "metadata": {},
   "outputs": [
    {
     "data": {
      "image/png": "[encoded data removed]",
      "text/plain": [
       "<Figure size 432x288 with 1 Axes>"
      ]
     },
     "metadata": {
      "needs_background": "light"
     },
     "output_type": "display_data"
    }
   ],
   "source": [
    "# Generate a bar plot showing number of data points for each treatment regimen using pyplot\n",
    "x_axisDrug = np.arange(len(drugRegimenValue))\n",
    "xtick_Locations = [values for values in x_axis]\n",
    "\n",
    "plt.bar(x_axisDrug, drugRegimenValue[\"Drug Regimen\"], align=\"center\", width=0.5)\n",
    "plt.xticks(xtick_Locations, list(drugRegimenValue.index), rotation=\"vertical\")\n",
    "label = [\"Drug Regimen\"] \n",
    "plt.legend(label, loc=\"upper center\")\n",
    "plt.title(\"Drug Regimen Data\")\n",
    "plt.xlabel(\"Drug Regimen\")\n",
    "plt.ylabel(\"Count\")\n",
    "plt.tight_layout()"
   ]
  },
  {
   "cell_type": "markdown",
   "metadata": {},
   "source": [
    "## Pie plots"
   ]
  },
  {
   "cell_type": "code",
   "execution_count": 98,
   "metadata": {},
   "outputs": [
    {
     "data": {
      "image/png": "[encoded data removed]",
      "text/plain": [
       "<Figure size 432x288 with 1 Axes>"
      ]
     },
     "metadata": {},
     "output_type": "display_data"
    }
   ],
   "source": [
    "# Generate a pie plot showing the distribution of female versus male mice using pandas\n",
    "\n",
    "genderData = combineDataset.groupby(\"Sex\")\n",
    "genderData_df = pd.DataFrame(genderData[\"Sex\"].count())\n",
    "\n",
    "genderData_df.plot(kind=\"pie\", y=\"Sex\", title=\"The distribution of female versus male mice\", \n",
    "                   autopct=\"%1.1f%%\", startangle=260, shadow= True, legend=False)\n",
    "plt.axis(\"equal\")\n",
    "plt.tight_layout()\n",
    "plt.show()"
   ]
  },
  {
   "cell_type": "code",
   "execution_count": 99,
   "metadata": {
    "scrolled": true
   },
   "outputs": [
    {
     "data": {
      "image/png": "[encoded data removed]",
      "text/plain": [
       "<Figure size 432x288 with 1 Axes>"
      ]
     },
     "metadata": {},
     "output_type": "display_data"
    }
   ],
   "source": [
    "# Generate a pie plot showing the distribution of female versus male mice using pyplot\n",
    "\n",
    "plt.pie(genderData_df['Sex'], labels=list(genderData_df.index.values), autopct=\"%1.1f%%\", startangle=260, shadow = True)\n",
    "plt.axis(\"equal\")\n",
    "plt.title(\"The distribution of female versus male mice\")\n",
    "plt.ylabel(\"Sex\")\n",
    "plt.tight_layout()\n"
   ]
  },
  {
   "cell_type": "markdown",
   "metadata": {},
   "source": [
    "## Quartiles, outliers and boxplots"
   ]
  },
  {
   "cell_type": "code",
   "execution_count": 7,
   "metadata": {},
   "outputs": [],
   "source": [
    "# Calculate the final tumor volume of each mouse across four of the most promising treatment regimens. Calculate the IQR and quantitatively determine if there are any potential outliers. \n",
    "#promising treatment regimens: Capomulin, Ramicane, Infubinol, and Ceftamin\n",
    "regimenList = [\"Capomulin\", \"Ramicane\", \"Infubinol\", \"Ceftamin\"]\n",
    "\n",
    "# Calculate IQR\n",
    "\n",
    "\n"
   ]
  },
  {
   "cell_type": "code",
   "execution_count": 8,
   "metadata": {},
   "outputs": [],
   "source": [
    "# Generate a box plot of the final tumor volume of each mouse across four regimens of interest"
   ]
  },
  {
   "cell_type": "markdown",
   "metadata": {},
   "source": [
    "## Line and scatter plots"
   ]
  },
  {
   "cell_type": "code",
   "execution_count": 9,
   "metadata": {},
   "outputs": [],
   "source": [
    "# Generate a line plot of time point versus tumor volume for a mouse treated with Capomulin"
   ]
  },
  {
   "cell_type": "code",
   "execution_count": 10,
   "metadata": {},
   "outputs": [],
   "source": [
    "# Generate a scatter plot of mouse weight versus average tumor volume for the Capomulin regimen"
   ]
  },
  {
   "cell_type": "code",
   "execution_count": 11,
   "metadata": {},
   "outputs": [],
   "source": [
    "# Calculate the correlation coefficient and linear regression model for mouse weight and average tumor volume for the Capomulin regimen"
   ]
  },
  {
   "cell_type": "code",
   "execution_count": null,
   "metadata": {},
   "outputs": [],
   "source": []
  }
 ],
 "metadata": {
  "anaconda-cloud": {},
  "kernelspec": {
   "display_name": "Python 3",
   "language": "python",
   "name": "python3"
  },
  "language_info": {
   "codemirror_mode": {
    "name": "ipython",
    "version": 3
   },
   "file_extension": ".py",
   "mimetype": "text/x-python",
   "name": "python",
   "nbconvert_exporter": "python",
   "pygments_lexer": "ipython3",
   "version": "3.7.6"
  }
 },
 "nbformat": 4,
 "nbformat_minor": 2
}
